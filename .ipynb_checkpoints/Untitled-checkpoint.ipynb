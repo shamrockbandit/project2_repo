{
 "cells": [
  {
   "cell_type": "code",
   "execution_count": 2,
   "metadata": {},
   "outputs": [],
   "source": [
    "import csv, sqlite3\n",
    "\n",
    "con = sqlite3.connect(\"pokedata.db\")\n",
    "cur = con.cursor()\n",
    "# cur.execute(\"CREATE TABLE pokedata (poke_ID, poke_name, generation, type1, type2, ability1, ability2, base_total, hp, attack, defense, sp_attack, sp_defense, speed, normal, fire, water, grass, electric, rock, ground, flying, fighting, ice, bug, steel, poison, psychic, dark, ghost, fairy, dragon);\") # use your column names here\n",
    "\n",
    "# with open('pokedata_cleaned.csv','r') as fin: # `with` statement available in 2.5+\n",
    "    # csv.DictReader uses first line in file for column headings by default\n",
    "#     dr = csv.DictReader(fin) # comma is default delimiter\n",
    "#     to_db = [(i['pokedex_number'], i['name'], i['generation'], i['type1'], i['type2'], i['ability1'], i['ability2'], i['base_total'], i['hp'], i['attack'], i['defense'], i['sp_attack'], i['sp_defense'], i['speed'], i['normal'], i['fire'], i['water'], i['grass'], i['electric'], i['rock'], i['ground'], i['flying'], i['fighting'], i['ice'], i['bug'], i['steel'], i['poison'], i['psychic'], i['dark'], i['ghost'], i['fairy'], i['dragon']) for i in dr]\n",
    "\n",
    "# cur.executemany(\"INSERT INTO pokedata (poke_ID, poke_name, generation, type1, type2, ability1, ability2, base_total, hp, attack, defense, sp_attack, sp_defense, speed, normal, fire, water, grass, electric, rock, ground, flying, fighting, ice, bug, steel, poison, psychic, dark, ghost, fairy, dragon) VALUES (?, ?,?, ?, ?, ?,?, ?, ?, ?,?, ?, ?, ?,?, ?, ?, ?,?, ?, ?, ?,?, ?, ?, ?,?, ?, ?, ?,?, ?);\", to_db)\n",
    "\n",
    "cur.execute(\"CREATE TABLE IF NOT EXISTS extra_pokedata (name, image, weakness1, weakness2, weakness3 , weakness4);\") # use your column names here\n",
    "\n",
    "with open('extra_poke.csv','r') as fin: # `with` statement available in 2.5+\n",
    "#     # csv.DictReader uses first line in file for column headings by default\n",
    "    reader = csv.reader(fin)\n",
    "    for field in reader:\n",
    "        cur.executemany(\"INSERT INTO extra_pokedata (name, image, weakness1, weakness2, weakness3, weakness4) VALUES (?, ?, ?, ?, ?, ?);\", [field])\n",
    "\n",
    "con.commit()\n",
    "con.close()"
   ]
  },
  {
   "cell_type": "code",
   "execution_count": 6,
   "metadata": {},
   "outputs": [],
   "source": [
    "from sqlalchemy import create_engine\n",
    "import pandas as pd"
   ]
  },
  {
   "cell_type": "code",
   "execution_count": 5,
   "metadata": {},
   "outputs": [],
   "source": [
    "engine = create_engine(\"sqlite:///pokedata.db\")"
   ]
  },
  {
   "cell_type": "code",
   "execution_count": null,
   "metadata": {},
   "outputs": [],
   "source": [
    "pd.read_sql('')"
   ]
  }
 ],
 "metadata": {
  "kernelspec": {
   "display_name": "PythonData",
   "language": "python",
   "name": "pythondata"
  },
  "language_info": {
   "codemirror_mode": {
    "name": "ipython",
    "version": 3
   },
   "file_extension": ".py",
   "mimetype": "text/x-python",
   "name": "python",
   "nbconvert_exporter": "python",
   "pygments_lexer": "ipython3",
   "version": "3.6.9"
  }
 },
 "nbformat": 4,
 "nbformat_minor": 2
}
